{
 "cells": [
  {
   "cell_type": "code",
   "execution_count": 1,
   "metadata": {
    "scrolled": true
   },
   "outputs": [
    {
     "data": {
      "text/html": [
       "<div>\n",
       "<style scoped>\n",
       "    .dataframe tbody tr th:only-of-type {\n",
       "        vertical-align: middle;\n",
       "    }\n",
       "\n",
       "    .dataframe tbody tr th {\n",
       "        vertical-align: top;\n",
       "    }\n",
       "\n",
       "    .dataframe thead th {\n",
       "        text-align: right;\n",
       "    }\n",
       "</style>\n",
       "<table border=\"1\" class=\"dataframe\">\n",
       "  <thead>\n",
       "    <tr style=\"text-align: right;\">\n",
       "      <th></th>\n",
       "      <th>stat_1</th>\n",
       "      <th>stat_2</th>\n",
       "      <th>stat_3</th>\n",
       "      <th>stat_4</th>\n",
       "    </tr>\n",
       "  </thead>\n",
       "  <tbody>\n",
       "    <tr>\n",
       "      <td>0</td>\n",
       "      <td>-1.968067</td>\n",
       "      <td>-22.370058</td>\n",
       "      <td>-11.385996</td>\n",
       "      <td>-19.388304</td>\n",
       "    </tr>\n",
       "    <tr>\n",
       "      <td>1</td>\n",
       "      <td>7.796681</td>\n",
       "      <td>-9.686054</td>\n",
       "      <td>-7.386393</td>\n",
       "      <td>11.636603</td>\n",
       "    </tr>\n",
       "    <tr>\n",
       "      <td>2</td>\n",
       "      <td>11.232707</td>\n",
       "      <td>-11.616259</td>\n",
       "      <td>-13.963754</td>\n",
       "      <td>11.035038</td>\n",
       "    </tr>\n",
       "    <tr>\n",
       "      <td>3</td>\n",
       "      <td>-7.431386</td>\n",
       "      <td>-2.881275</td>\n",
       "      <td>-16.752395</td>\n",
       "      <td>-20.350752</td>\n",
       "    </tr>\n",
       "    <tr>\n",
       "      <td>4</td>\n",
       "      <td>9.229358</td>\n",
       "      <td>-5.420281</td>\n",
       "      <td>-11.678623</td>\n",
       "      <td>13.369752</td>\n",
       "    </tr>\n",
       "  </tbody>\n",
       "</table>\n",
       "</div>"
      ],
      "text/plain": [
       "      stat_1     stat_2     stat_3     stat_4\n",
       "0  -1.968067 -22.370058 -11.385996 -19.388304\n",
       "1   7.796681  -9.686054  -7.386393  11.636603\n",
       "2  11.232707 -11.616259 -13.963754  11.035038\n",
       "3  -7.431386  -2.881275 -16.752395 -20.350752\n",
       "4   9.229358  -5.420281 -11.678623  13.369752"
      ]
     },
     "execution_count": 1,
     "metadata": {},
     "output_type": "execute_result"
    }
   ],
   "source": [
    "#!/usr/bin/env python\n",
    "# -*- coding: utf-8 -*-\n",
    "# vim:fileencoding=utf-8\n",
    "\n",
    "import pandas as pd\n",
    "import numpy as np\n",
    "from matplotlib import pyplot as plt\n",
    "\n",
    "#Для решения данной задачи я выбрал алгоритм К-средних (K-means)\n",
    "\n",
    "#получаем набор данных из файла\n",
    "df = pd.read_csv('task2.csv', sep=';')\n",
    "df.head()"
   ]
  },
  {
   "cell_type": "code",
   "execution_count": 2,
   "metadata": {},
   "outputs": [],
   "source": [
    "#зафиксируем случайность, чтобы каждый раз получалось одно и тоже\n",
    "np.random.seed(seed=666)\n",
    "\n",
    "#фиксируем диапазон для количества кластеров\n",
    "range_n_clusters = [2, 3, 4, 5, 6, 7, 8, 9]"
   ]
  },
  {
   "cell_type": "code",
   "execution_count": 3,
   "metadata": {},
   "outputs": [
    {
     "name": "stdout",
     "output_type": "stream",
     "text": [
      "For n = 2 clusters, the average silhouette_score is : 0.4720968316204961\n",
      "For n = 3 clusters, the average silhouette_score is : 0.5255998781867595\n",
      "For n = 4 clusters, the average silhouette_score is : 0.589374616139179\n",
      "For n = 5 clusters, the average silhouette_score is : 0.6308523081951911\n",
      "For n = 6 clusters, the average silhouette_score is : 0.6870955256541973\n",
      "For n = 7 clusters, the average silhouette_score is : 0.6798184106062525\n",
      "For n = 8 clusters, the average silhouette_score is : 0.7009475617283484\n",
      "For n = 9 clusters, the average silhouette_score is : 0.5247260073442525\n"
     ]
    }
   ],
   "source": [
    "from sklearn.cluster import KMeans\n",
    "from sklearn.metrics import silhouette_samples, silhouette_score\n",
    "\n",
    "#в цикле, используя метод кластеризации K-Means разбиваем данные на указанное число кластеров\n",
    "#далее, смотрим коэффициент силуэта (внутренняя метрика для оценки качества кластеризации)\n",
    "\n",
    "for n_clusters in range_n_clusters:\n",
    "    clustering = KMeans(n_clusters=n_clusters)\n",
    "    clustering.fit(df)\n",
    "    silhouette_avg = silhouette_score(df, clustering.labels_)\n",
    "    print(\"For n =\", n_clusters,\n",
    "          \"clusters, the average silhouette_score is :\", silhouette_avg)"
   ]
  },
  {
   "cell_type": "code",
   "execution_count": 4,
   "metadata": {},
   "outputs": [],
   "source": [
    "#из результата видно, что самое подходящее количество кластеров = 8,\n",
    "#поскольку коэффициент силуэта при нём максимален"
   ]
  },
  {
   "cell_type": "code",
   "execution_count": 5,
   "metadata": {},
   "outputs": [
    {
     "data": {
      "image/png": "[encoded data removed]",
      "text/plain": [
       "<Figure size 432x288 with 1 Axes>"
      ]
     },
     "metadata": {
      "needs_background": "light"
     },
     "output_type": "display_data"
    }
   ],
   "source": [
    "#так же можно убедиться в результате при помощи критерия оценки J(C),\n",
    "#суммы квадратов расстояний от точек до центроидов кластеров, к которым они относятся\n",
    "#об этом подробнее в прикрепленном файле additional_task.txt\n",
    "\n",
    "inertia = []\n",
    "for k in range(1, 12):\n",
    "    kmeans = KMeans(n_clusters=k).fit(df)\n",
    "    inertia.append(np.sqrt(kmeans.inertia_))\n",
    "\n",
    "plt.plot(range(1, 12), inertia, marker='s');\n",
    "plt.xlabel('$n$')\n",
    "plt.ylabel('$J(C_n)$');"
   ]
  },
  {
   "cell_type": "code",
   "execution_count": null,
   "metadata": {},
   "outputs": [],
   "source": []
  }
 ],
 "metadata": {
  "kernelspec": {
   "display_name": "Python 3",
   "language": "python",
   "name": "python3"
  },
  "language_info": {
   "codemirror_mode": {
    "name": "ipython",
    "version": 3
   },
   "file_extension": ".py",
   "mimetype": "text/x-python",
   "name": "python",
   "nbconvert_exporter": "python",
   "pygments_lexer": "ipython3",
   "version": "3.7.4"
  }
 },
 "nbformat": 4,
 "nbformat_minor": 2
}
